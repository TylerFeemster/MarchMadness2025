{
 "cells": [
  {
   "cell_type": "markdown",
   "metadata": {},
   "source": [
    "# Validation & Tuning"
   ]
  },
  {
   "cell_type": "code",
   "execution_count": 13,
   "metadata": {},
   "outputs": [],
   "source": [
    "from pipeline import Pipeline\n",
    "ppl = Pipeline()"
   ]
  },
  {
   "cell_type": "code",
   "execution_count": 14,
   "metadata": {},
   "outputs": [
    {
     "name": "stdout",
     "output_type": "stream",
     "text": [
      "  Mens 2003:  0.18509\n",
      "Womens 2003:  0.11381\n",
      "===================== 2003:  0.14945\n",
      "  Mens 2004:  0.15930\n",
      "Womens 2004:  0.14865\n",
      "===================== 2004:  0.15397\n",
      "  Mens 2005:  0.19063\n",
      "Womens 2005:  0.15608\n",
      "===================== 2005:  0.17335\n",
      "  Mens 2006:  0.18109\n",
      "Womens 2006:  0.12073\n",
      "===================== 2006:  0.15091\n",
      "  Mens 2007:  0.16042\n",
      "Womens 2007:  0.17081\n",
      "===================== 2007:  0.16562\n",
      "  Mens 2008:  0.16997\n",
      "Womens 2008:  0.10867\n",
      "===================== 2008:  0.13932\n",
      "  Mens 2009:  0.16362\n",
      "Womens 2009:  0.14089\n",
      "===================== 2009:  0.15226\n",
      "  Mens 2010:  0.18449\n",
      "Womens 2010:  0.14890\n",
      "===================== 2010:  0.16670\n",
      "  Mens 2011:  0.24835\n",
      "Womens 2011:  0.12544\n",
      "===================== 2011:  0.18690\n",
      "  Mens 2012:  0.16581\n",
      "Womens 2012:  0.10883\n",
      "===================== 2012:  0.13732\n",
      "  Mens 2013:  0.20844\n",
      "Womens 2013:  0.15239\n",
      "===================== 2013:  0.18042\n",
      "  Mens 2014:  0.19259\n",
      "Womens 2014:  0.13114\n",
      "===================== 2014:  0.16186\n",
      "  Mens 2015:  0.17157\n",
      "Womens 2015:  0.11210\n",
      "===================== 2015:  0.14183\n",
      "  Mens 2016:  0.16670\n",
      "Womens 2016:  0.16167\n",
      "===================== 2016:  0.16419\n",
      "  Mens 2017:  0.18152\n",
      "Womens 2017:  0.12790\n",
      "===================== 2017:  0.15471\n",
      "  Mens 2018:  0.19672\n",
      "Womens 2018:  0.15967\n",
      "===================== 2018:  0.17819\n",
      "  Mens 2019:  0.15569\n",
      "Womens 2019:  0.12348\n",
      "===================== 2019:  0.13959\n",
      "  Mens 2021:  0.20653\n",
      "Womens 2021:  0.12276\n",
      "===================== 2021:  0.16465\n",
      "  Mens 2022:  0.21094\n",
      "Womens 2022:  0.14985\n",
      "===================== 2022:  0.18039\n",
      "  Mens 2023:  0.20919\n",
      "Womens 2023:  0.18556\n",
      "===================== 2023:  0.19737\n",
      "  Mens 2024:  0.17307\n",
      "Womens 2024:  0.11550\n",
      "===================== 2024:  0.14428\n",
      "\n",
      "  Mens Mean:  0.18484\n",
      "Womens Mean:  0.13737\n",
      "===================== Mean:  0.16111\n"
     ]
    }
   ],
   "source": [
    "# Optimal Parameters\n",
    "m_alphas = [0, 1e-3, 1e-1]\n",
    "m_l1_ratios = [0.1] * 3\n",
    "w_alphas = [0, 1e-2, 0.5]\n",
    "w_l1_ratios = [0] * 3\n",
    "ppl.validation(m_alphas, m_l1_ratios, w_alphas, w_l1_ratios)"
   ]
  },
  {
   "cell_type": "markdown",
   "metadata": {},
   "source": [
    "# Generating Submission"
   ]
  },
  {
   "cell_type": "code",
   "execution_count": 15,
   "metadata": {},
   "outputs": [],
   "source": [
    "from pipeline import Pipeline\n",
    "ppl = Pipeline()\n",
    "ppl.submission()"
   ]
  },
  {
   "cell_type": "markdown",
   "metadata": {},
   "source": [
    "### Ensembling"
   ]
  },
  {
   "cell_type": "code",
   "execution_count": 16,
   "metadata": {},
   "outputs": [],
   "source": [
    "import pandas as pd\n",
    "raddar = pd.read_csv('./predictions/raddar_predictions.csv')\n",
    "submish = pd.read_csv('./predictions/submission.csv')\n",
    "ensemble = raddar.copy()\n",
    "ensemble['Pred'] = (ensemble['Pred'] + submish['Pred']) / 2\n",
    "ensemble = ensemble.to_csv('./predictions/raddar_ensemble.csv', index=False)"
   ]
  },
  {
   "cell_type": "markdown",
   "metadata": {},
   "source": [
    "### Finding Round 1 Game for 0/1 Overwrites"
   ]
  },
  {
   "cell_type": "markdown",
   "metadata": {},
   "source": [
    "First, we use the seeds to determine the Round 1 match-ups."
   ]
  },
  {
   "cell_type": "code",
   "execution_count": 17,
   "metadata": {},
   "outputs": [
    {
     "data": {
      "text/html": [
       "<div>\n",
       "<style scoped>\n",
       "    .dataframe tbody tr th:only-of-type {\n",
       "        vertical-align: middle;\n",
       "    }\n",
       "\n",
       "    .dataframe tbody tr th {\n",
       "        vertical-align: top;\n",
       "    }\n",
       "\n",
       "    .dataframe thead th {\n",
       "        text-align: right;\n",
       "    }\n",
       "</style>\n",
       "<table border=\"1\" class=\"dataframe\">\n",
       "  <thead>\n",
       "    <tr style=\"text-align: right;\">\n",
       "      <th></th>\n",
       "      <th>Season</th>\n",
       "      <th>Seed</th>\n",
       "      <th>TeamID</th>\n",
       "      <th>M</th>\n",
       "    </tr>\n",
       "  </thead>\n",
       "  <tbody>\n",
       "    <tr>\n",
       "      <th>2558</th>\n",
       "      <td>2025</td>\n",
       "      <td>W01</td>\n",
       "      <td>1181</td>\n",
       "      <td>True</td>\n",
       "    </tr>\n",
       "    <tr>\n",
       "      <th>2559</th>\n",
       "      <td>2025</td>\n",
       "      <td>W02</td>\n",
       "      <td>1104</td>\n",
       "      <td>True</td>\n",
       "    </tr>\n",
       "    <tr>\n",
       "      <th>2560</th>\n",
       "      <td>2025</td>\n",
       "      <td>W03</td>\n",
       "      <td>1458</td>\n",
       "      <td>True</td>\n",
       "    </tr>\n",
       "    <tr>\n",
       "      <th>2561</th>\n",
       "      <td>2025</td>\n",
       "      <td>W04</td>\n",
       "      <td>1112</td>\n",
       "      <td>True</td>\n",
       "    </tr>\n",
       "    <tr>\n",
       "      <th>2562</th>\n",
       "      <td>2025</td>\n",
       "      <td>W05</td>\n",
       "      <td>1332</td>\n",
       "      <td>True</td>\n",
       "    </tr>\n",
       "    <tr>\n",
       "      <th>...</th>\n",
       "      <td>...</td>\n",
       "      <td>...</td>\n",
       "      <td>...</td>\n",
       "      <td>...</td>\n",
       "    </tr>\n",
       "    <tr>\n",
       "      <th>1739</th>\n",
       "      <td>2025</td>\n",
       "      <td>Z12</td>\n",
       "      <td>3193</td>\n",
       "      <td>False</td>\n",
       "    </tr>\n",
       "    <tr>\n",
       "      <th>1740</th>\n",
       "      <td>2025</td>\n",
       "      <td>Z13</td>\n",
       "      <td>3251</td>\n",
       "      <td>False</td>\n",
       "    </tr>\n",
       "    <tr>\n",
       "      <th>1741</th>\n",
       "      <td>2025</td>\n",
       "      <td>Z14</td>\n",
       "      <td>3195</td>\n",
       "      <td>False</td>\n",
       "    </tr>\n",
       "    <tr>\n",
       "      <th>1742</th>\n",
       "      <td>2025</td>\n",
       "      <td>Z15</td>\n",
       "      <td>3117</td>\n",
       "      <td>False</td>\n",
       "    </tr>\n",
       "    <tr>\n",
       "      <th>1743</th>\n",
       "      <td>2025</td>\n",
       "      <td>Z16</td>\n",
       "      <td>3422</td>\n",
       "      <td>False</td>\n",
       "    </tr>\n",
       "  </tbody>\n",
       "</table>\n",
       "<p>120 rows × 4 columns</p>\n",
       "</div>"
      ],
      "text/plain": [
       "      Season Seed  TeamID      M\n",
       "2558    2025  W01    1181   True\n",
       "2559    2025  W02    1104   True\n",
       "2560    2025  W03    1458   True\n",
       "2561    2025  W04    1112   True\n",
       "2562    2025  W05    1332   True\n",
       "...      ...  ...     ...    ...\n",
       "1739    2025  Z12    3193  False\n",
       "1740    2025  Z13    3251  False\n",
       "1741    2025  Z14    3195  False\n",
       "1742    2025  Z15    3117  False\n",
       "1743    2025  Z16    3422  False\n",
       "\n",
       "[120 rows x 4 columns]"
      ]
     },
     "metadata": {},
     "output_type": "display_data"
    }
   ],
   "source": [
    "from files import Files\n",
    "f = Files()\n",
    "seeds = pd.concat([f.df('tourney_seeds'), f.df('tourney_seeds', sex='W')]).query('Season==2025')\n",
    "seeds = seeds[seeds['Seed'].apply(len) == 3]\n",
    "seeds['M'] = seeds['TeamID'] // 1000 == 1\n",
    "display(seeds)\n",
    "\n",
    "matchups_r1 = []\n",
    "men = seeds.query('M == True')\n",
    "women = seeds.query('M == False')\n",
    "for i in range(1, 9):\n",
    "    j = 17 - i\n",
    "    istr = str(i)\n",
    "    jstr = str(j)\n",
    "    if i < 10:\n",
    "        istr = '0'+istr\n",
    "    if j < 10:\n",
    "        jstr = '0'+jstr\n",
    "    for s in ['W', 'X', 'Y', 'Z']:\n",
    "        for df in [men, women]:\n",
    "            try:\n",
    "                t1 = df.query(f'Seed == \"{s}{istr}\"')['TeamID'].to_list()[0]\n",
    "                t2 = df.query(f'Seed == \"{s}{jstr}\"')['TeamID'].to_list()[0]\n",
    "            except:\n",
    "                continue\n",
    "            matchups_r1.append((t1, t2))"
   ]
  },
  {
   "cell_type": "code",
   "execution_count": 18,
   "metadata": {},
   "outputs": [
    {
     "name": "stdout",
     "output_type": "stream",
     "text": [
      "2025_3143_3280 0.5053318372666178\n"
     ]
    }
   ],
   "source": [
    "import numpy as np\n",
    "\n",
    "raddar = pd.read_csv('./predictions/raddar_predictions.csv')\n",
    "submish = pd.read_csv('./predictions/submission.csv')\n",
    "ensemble = raddar.copy()\n",
    "ensemble['Pred'] = (ensemble['Pred'] + submish['Pred']) / 2\n",
    "\n",
    "mnm = 1\n",
    "closest_id = None\n",
    "q_mid = None\n",
    "for t1, t2 in matchups_r1:\n",
    "    a = min(t1, t2)\n",
    "    b = max(t1, t2)\n",
    "    id = f\"2025_{a}_{b}\"\n",
    "    q = ensemble.query('ID == @id')['Pred'].to_list()[0]\n",
    "    if np.abs(q - 0.5) < mnm:\n",
    "        mnm = np.abs(q - 0.5)\n",
    "        closest_id = id\n",
    "        q_mid = q\n",
    "\n",
    "print(closest_id, q_mid)"
   ]
  },
  {
   "cell_type": "markdown",
   "metadata": {},
   "source": [
    "3143 is California, and 3280 is Mississippi State. Our model has California winning with a 50.5% probability, so we're guaranteed a Brier score of almost 0.25. We maximize the guaranteed Brier score reduction by using our two submissions strategically. For one, we'll overwrite the probability to 1, and for the other, we'll overwrite the probability to 0. This has been done manually; the two files are in the predictions folder"
   ]
  }
 ],
 "metadata": {
  "kernelspec": {
   "display_name": ".venv",
   "language": "python",
   "name": "python3"
  },
  "language_info": {
   "codemirror_mode": {
    "name": "ipython",
    "version": 3
   },
   "file_extension": ".py",
   "mimetype": "text/x-python",
   "name": "python",
   "nbconvert_exporter": "python",
   "pygments_lexer": "ipython3",
   "version": "3.11.0"
  }
 },
 "nbformat": 4,
 "nbformat_minor": 2
}
